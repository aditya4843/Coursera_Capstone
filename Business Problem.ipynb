{
 "cells": [
  {
   "cell_type": "markdown",
   "metadata": {},
   "source": [
    "# Toronto Restaurants | Business Proposal | Introduction\n",
    "# Introduction:\n",
    "The purpose of this Project is to help people in exploring food cuisine around their neighborhood. It will help people making smart and efficient decision on selecting great food options out of numbers of other neighborhoods in Toranto.\n",
    "\n",
    "Lots of people are migrating to various states of Canada, so their food preferent would be different. They would like to try out different cusines. Lot of them would like to explore different cuisines or want to try out food from their own country like India, Chinese, Thai , Mexican etc.\n",
    "\n",
    "This Project aim to create an analysis of food options  to search most commonly visited restaurants. It includes all different types of cusines.\n",
    "\n",
    "\n",
    "\n",
    "# Problem Which Tried to Solve:\n",
    "The major purpose of this project, is to suggest all types of food options in the neighborhood in a new city for the person who are shiffting there. Different types of cuisine, type of restaurant.\n",
    "\n",
    "\n",
    "\n",
    "# Foursquare API:\n",
    "This project would use Four-square API as its prime data gathering source as it has a database of millions of places, especially their places API which provides the ability to perform location search, location sharing and details about a business.\n",
    "\n",
    "# Work Flow:\n",
    "Using credentials of Foursquare API features of near-by places of the neighborhoods would be mined. Due to http request limitations the number of places per neighborhood parameter would reasonably be set to 100 and the radius parameter would be set to 500.\n",
    "\n",
    "# Clustering Approach:\n",
    "To compare the restaurants, we decided to explore neighborhoods, segment them, and group them into clusters to find similar neighborhoods in a big city Toronto. To be able to do that, we need to cluster data which is a form of unsupervised machine learning: k-means clustering algorithm\n",
    "\n",
    "# Libraries Which are Used to Develope the Project:\n",
    "Pandas: For creating and manipulating dataframes.\n",
    "\n",
    "Folium: Python visualization library would be used to visualize the neighborhoods cluster distribution of using interactive leaflet map.\n",
    "\n",
    "Scikit Learn: For importing k-means clustering.\n",
    "\n",
    "JSON: Library to handle JSON files.\n",
    "\n",
    "XML: To separate data from presentation and XML stores data in plain text format.\n",
    "\n",
    "Geocoder: To retrieve Location Data.\n",
    "\n",
    "Beautiful Soup and Requests: To scrap and library to handle http requests.\n",
    "\n",
    "Matplotlib: Python Plotting Module."
   ]
  },
  {
   "cell_type": "code",
   "execution_count": null,
   "metadata": {},
   "outputs": [],
   "source": []
  }
 ],
 "metadata": {
  "kernelspec": {
   "display_name": "Python 3",
   "language": "python",
   "name": "python3"
  },
  "language_info": {
   "codemirror_mode": {
    "name": "ipython",
    "version": 3
   },
   "file_extension": ".py",
   "mimetype": "text/x-python",
   "name": "python",
   "nbconvert_exporter": "python",
   "pygments_lexer": "ipython3",
   "version": "3.8.5"
  }
 },
 "nbformat": 4,
 "nbformat_minor": 4
}
